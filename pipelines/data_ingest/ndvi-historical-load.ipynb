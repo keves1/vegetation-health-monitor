{
 "cells": [
  {
   "cell_type": "code",
   "execution_count": null,
   "id": "5525023f",
   "metadata": {},
   "outputs": [],
   "source": [
    "import json\n",
    "import os\n",
    "\n",
    "import leafmap.foliumap as leafmap\n",
    "import matplotlib.pyplot as plt\n",
    "import numpy as np\n",
    "import pystac_client\n",
    "import s3fs\n",
    "import xarray as xr\n",
    "from dask.distributed import Client as DaskClient\n",
    "from dotenv import load_dotenv\n",
    "from odc.stac import load\n",
    "from planetary_computer import sign_url\n",
    "from shapely.geometry import shape"
   ]
  },
  {
   "cell_type": "code",
   "execution_count": null,
   "id": "c482ceba",
   "metadata": {},
   "outputs": [],
   "source": [
    "load_dotenv()"
   ]
  },
  {
   "cell_type": "code",
   "execution_count": null,
   "id": "a704d988",
   "metadata": {},
   "outputs": [],
   "source": [
    "dask_client = DaskClient()\n",
    "dask_client"
   ]
  },
  {
   "cell_type": "code",
   "execution_count": null,
   "id": "43257132",
   "metadata": {},
   "outputs": [],
   "source": [
    "m = leafmap.Map(draw_export=True)\n",
    "m.add_basemap(\"ESA WorldCover 2021\")\n",
    "m.add_legend(builtin_legend=\"ESA_WorldCover\")\n",
    "m.add_vector(\"aoi.geojson\")\n",
    "m"
   ]
  },
  {
   "cell_type": "code",
   "execution_count": null,
   "id": "4b6d0813",
   "metadata": {},
   "outputs": [],
   "source": [
    "with open(\"aoi.geojson\") as file:\n",
    "    area_of_interest = json.load(file)\n",
    "    area_of_interest = area_of_interest[\"features\"][0][\"geometry\"]\n",
    "    geom = shape(area_of_interest)\n",
    "    bbox = list(geom.bounds)"
   ]
  },
  {
   "cell_type": "code",
   "execution_count": null,
   "id": "b53990ab",
   "metadata": {},
   "outputs": [],
   "source": [
    "catalog = pystac_client.Client.open(\n",
    "    \"https://planetarycomputer.microsoft.com/api/stac/v1/\"\n",
    ")\n",
    "collection = \"landsat-c2-l2\"\n",
    "bbox = bbox\n",
    "start_date = \"2023-08\"\n",
    "end_date = \"2025-07\""
   ]
  },
  {
   "cell_type": "code",
   "execution_count": null,
   "id": "086a916b",
   "metadata": {},
   "outputs": [],
   "source": [
    "search = catalog.search(\n",
    "    collections=[collection],\n",
    "    bbox=bbox,\n",
    "    datetime=f\"{start_date}/{end_date}\",\n",
    ")\n",
    "items = search.item_collection()"
   ]
  },
  {
   "cell_type": "code",
   "execution_count": null,
   "id": "b70b0d1c",
   "metadata": {},
   "outputs": [],
   "source": [
    "len(items)"
   ]
  },
  {
   "cell_type": "code",
   "execution_count": null,
   "id": "965f5818",
   "metadata": {},
   "outputs": [],
   "source": [
    "data = load(\n",
    "    items,\n",
    "    bands=[\"red\", \"nir08\", \"qa_pixel\"],\n",
    "    bbox=bbox,\n",
    "    chunks={\"x\": 2048, \"y\": 2048},\n",
    "    resolution=300,\n",
    "    groupby=\"solar_day\",\n",
    "    patch_url=sign_url,\n",
    ")"
   ]
  },
  {
   "cell_type": "code",
   "execution_count": null,
   "id": "bc3751af",
   "metadata": {},
   "outputs": [],
   "source": [
    "data"
   ]
  },
  {
   "cell_type": "code",
   "execution_count": null,
   "id": "9a96c861",
   "metadata": {},
   "outputs": [],
   "source": [
    "# Mask out nodata and cloud pixels\n",
    "# Bit 3 is cloud shadow, bit 4 is cloud, and bit 0 is nodata\n",
    "mask_bits = 0b00011001\n",
    "\n",
    "mask = (data.qa_pixel & mask_bits) != 0\n",
    "\n",
    "data = data.where(~mask, other=np.nan).drop_vars(\"qa_pixel\")"
   ]
  },
  {
   "cell_type": "code",
   "execution_count": null,
   "id": "2aab1829",
   "metadata": {},
   "outputs": [],
   "source": [
    "ndvi = (data.nir08 - data.red) / (data.nir08 + data.red)\n",
    "data[\"ndvi\"] = ndvi.clip(-1, 1)\n",
    "data = data.drop_vars([\"red\", \"nir08\"])"
   ]
  },
  {
   "cell_type": "code",
   "execution_count": null,
   "id": "6831a13f",
   "metadata": {},
   "outputs": [],
   "source": [
    "data = data.compute()"
   ]
  },
  {
   "cell_type": "code",
   "execution_count": null,
   "id": "bc02ee83",
   "metadata": {},
   "outputs": [],
   "source": [
    "data.to_zarr(\"data/ndvi.zarr\", mode=\"w\", consolidated=True)"
   ]
  },
  {
   "cell_type": "code",
   "execution_count": null,
   "id": "99318475",
   "metadata": {},
   "outputs": [],
   "source": [
    "# Start here if data is already downloaded\n",
    "data = xr.open_zarr(\"data/ndvi.zarr\")\n",
    "ndvi = data.ndvi"
   ]
  },
  {
   "cell_type": "code",
   "execution_count": null,
   "id": "1cf4e657",
   "metadata": {},
   "outputs": [],
   "source": [
    "ndvi"
   ]
  },
  {
   "cell_type": "code",
   "execution_count": null,
   "id": "56b7b74a",
   "metadata": {},
   "outputs": [],
   "source": [
    "ndvi_time_series = ndvi.mean(dim=[\"x\", \"y\"])"
   ]
  },
  {
   "cell_type": "code",
   "execution_count": null,
   "id": "0055fcce",
   "metadata": {},
   "outputs": [],
   "source": [
    "plt.plot(\n",
    "    ndvi_time_series[\"time\"].values,\n",
    "    ndvi_time_series.values,\n",
    "    marker=\".\",\n",
    ")"
   ]
  },
  {
   "cell_type": "code",
   "execution_count": null,
   "id": "de0dd222",
   "metadata": {},
   "outputs": [],
   "source": [
    "ndvi.isel(time=slice(0, 6)).plot(col=\"time\", col_wrap=3, cmap=\"viridis\")"
   ]
  },
  {
   "cell_type": "code",
   "execution_count": null,
   "id": "c5a91295",
   "metadata": {},
   "outputs": [],
   "source": [
    "eight_day = data.ndvi.resample(time=\"8D\").max()"
   ]
  },
  {
   "cell_type": "code",
   "execution_count": null,
   "id": "6e957159",
   "metadata": {},
   "outputs": [],
   "source": [
    "eight_day.isel(time=slice(0, 6)).plot(col=\"time\", col_wrap=3, cmap=\"viridis\")"
   ]
  },
  {
   "cell_type": "code",
   "execution_count": null,
   "id": "e80d2c6a",
   "metadata": {},
   "outputs": [],
   "source": [
    "eight_day = eight_day.chunk({\"time\": -1})\n",
    "filled = eight_day.interpolate_na(\"time\", method=\"linear\").bfill(\"time\").ffill(\"time\")"
   ]
  },
  {
   "cell_type": "code",
   "execution_count": null,
   "id": "f0920d40",
   "metadata": {},
   "outputs": [],
   "source": [
    "filled.isel(time=slice(0, 6)).plot(col=\"time\", col_wrap=3, cmap=\"viridis\")"
   ]
  },
  {
   "cell_type": "code",
   "execution_count": null,
   "id": "e7bb6e0a",
   "metadata": {},
   "outputs": [],
   "source": [
    "mean = ndvi.mean(dim=[\"x\", \"y\"])\n",
    "filled_mean = filled.mean(dim=[\"x\", \"y\"])\n",
    "\n",
    "plt.scatter(\n",
    "    mean[\"time\"].values,\n",
    "    mean.values,\n",
    "    s=10,\n",
    "    color=\"orange\",\n",
    "    label=\"Original Data\",\n",
    ")\n",
    "plt.plot(\n",
    "    filled_mean[\"time\"].values,\n",
    "    filled_mean.values,\n",
    "    marker=\".\",\n",
    "    label=\"Resampled and filled\",\n",
    ")\n",
    "plt.title(\"Mean Value Over Time\")\n",
    "plt.xlabel(\"Time\")\n",
    "plt.ylabel(\"Mean Value\")\n",
    "plt.grid(True)\n",
    "plt.legend()"
   ]
  },
  {
   "cell_type": "code",
   "execution_count": null,
   "id": "82ac7f07",
   "metadata": {},
   "outputs": [],
   "source": [
    "processed = xr.Dataset(\n",
    "    {\n",
    "        \"ndvi_8d_raw\": eight_day,\n",
    "        \"ndvi_8d_processed\": filled,\n",
    "    }\n",
    ")"
   ]
  },
  {
   "cell_type": "code",
   "execution_count": null,
   "id": "fe870d22",
   "metadata": {},
   "outputs": [],
   "source": [
    "processed = processed.chunk({\"time\": 3, \"x\": 100, \"y\": 100})"
   ]
  },
  {
   "cell_type": "code",
   "execution_count": null,
   "id": "8a1edfe6",
   "metadata": {},
   "outputs": [],
   "source": [
    "processed"
   ]
  },
  {
   "cell_type": "code",
   "execution_count": null,
   "id": "6799f350",
   "metadata": {},
   "outputs": [],
   "source": [
    "processed.to_zarr(\"data/ndvi_processed.zarr\", mode=\"w\", consolidated=True)"
   ]
  },
  {
   "cell_type": "code",
   "execution_count": null,
   "id": "7330f222",
   "metadata": {},
   "outputs": [],
   "source": [
    "bucket_name = os.environ[\"S3_BUCKET\"]\n",
    "s3_path = f\"{bucket_name}/ndvi_processed.zarr\"\n",
    "fs = s3fs.S3FileSystem()\n",
    "fs.put(\"./data/ndvi_processed.zarr/\", s3_path, recursive=True)"
   ]
  },
  {
   "cell_type": "code",
   "execution_count": null,
   "id": "572e1c03",
   "metadata": {},
   "outputs": [],
   "source": [
    "fs.put(\"aoi.geojson\", bucket_name)"
   ]
  }
 ],
 "metadata": {
  "kernelspec": {
   "display_name": "vhm-pipelines",
   "language": "python",
   "name": "python3"
  },
  "language_info": {
   "codemirror_mode": {
    "name": "ipython",
    "version": 3
   },
   "file_extension": ".py",
   "mimetype": "text/x-python",
   "name": "python",
   "nbconvert_exporter": "python",
   "pygments_lexer": "ipython3",
   "version": "3.11.13"
  }
 },
 "nbformat": 4,
 "nbformat_minor": 5
}
