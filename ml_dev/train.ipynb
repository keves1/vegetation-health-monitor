{
 "cells": [
  {
   "cell_type": "code",
   "execution_count": 1,
   "id": "f60de035",
   "metadata": {},
   "outputs": [],
   "source": [
    "import torch\n",
    "import wandb\n",
    "from lightning.pytorch import Trainer\n",
    "from lightning.pytorch.loggers import WandbLogger\n",
    "from torchgeo.trainers import AutoregressionTask\n",
    "\n",
    "from src.ndvi_datamodule import NDVIDataModule"
   ]
  },
  {
   "cell_type": "code",
   "execution_count": 2,
   "id": "f9c58668",
   "metadata": {},
   "outputs": [],
   "source": [
    "# Modify the following configuration as needed\n",
    "config = {}\n",
    "config[\"learning_rate\"] = 0.001\n",
    "config[\"batch_size\"] = 256\n",
    "config[\"wandb_project\"] = \"test\"\n",
    "config[\"wandb_name\"] = \"test\"\n",
    "config[\"max_epochs\"] = 1\n",
    "config[\"num_workers\"] = 4 if torch.cuda.is_available() else 0\n",
    "config[\"ckpt_path\"] = None\n",
    "config[\"val_split_pct\"] = 0.25\n",
    "config[\"test_split_pct\"] = 0.25\n",
    "config[\"num_past_steps\"] = 10\n",
    "config[\"num_future_steps\"] = 3\n",
    "config[\"input_size\"] = 1\n",
    "config[\"hidden_size\"] = 32\n",
    "config[\"num_layers\"] = 1\n",
    "config[\"teacher_force_prob\"] = None"
   ]
  },
  {
   "cell_type": "code",
   "execution_count": 3,
   "id": "59083949",
   "metadata": {},
   "outputs": [],
   "source": [
    "data_dir = \"data\""
   ]
  },
  {
   "cell_type": "code",
   "execution_count": 4,
   "id": "7d620541",
   "metadata": {},
   "outputs": [],
   "source": [
    "datamodule = NDVIDataModule(\n",
    "    data_dir=data_dir,\n",
    "    batch_size=config[\"batch_size\"],\n",
    "    val_split_pct=config[\"val_split_pct\"],\n",
    "    test_split_pct=config[\"test_split_pct\"],\n",
    "    num_workers=config[\"num_workers\"],\n",
    "    num_past_steps=config[\"num_past_steps\"],\n",
    "    num_future_steps=config[\"num_future_steps\"],\n",
    ")"
   ]
  },
  {
   "cell_type": "code",
   "execution_count": 5,
   "id": "a1eeb036",
   "metadata": {},
   "outputs": [],
   "source": [
    "model = AutoregressionTask(\n",
    "    model=\"seq2seq\",\n",
    "    input_size=config[\"input_size\"],\n",
    "    loss=\"mse\",\n",
    "    lr=config[\"learning_rate\"],\n",
    "    hidden_size=config[\"hidden_size\"],\n",
    "    output_sequence_len=config[\"num_future_steps\"],\n",
    "    num_layers=config[\"num_layers\"],\n",
    "    teacher_force_prob=config[\"teacher_force_prob\"],\n",
    ")"
   ]
  },
  {
   "cell_type": "code",
   "execution_count": 6,
   "id": "0718700f",
   "metadata": {},
   "outputs": [],
   "source": [
    "wandb_logger = WandbLogger(\n",
    "    name=config[\"wandb_name\"], save_dir=\"wandb-logs\", project=config[\"wandb_project\"]\n",
    ")"
   ]
  },
  {
   "cell_type": "code",
   "execution_count": null,
   "id": "f9453c48",
   "metadata": {},
   "outputs": [],
   "source": [
    "trainer = Trainer(\n",
    "    logger=wandb_logger,\n",
    "    max_epochs=config[\"max_epochs\"],\n",
    "    log_every_n_steps=1,\n",
    "    # num_sanity_val_steps=0,\n",
    "    # limit_train_batches=1,\n",
    "    # limit_val_batches=1,\n",
    "    # limit_test_batches=1,\n",
    "    # fast_dev_run=1,\n",
    ")"
   ]
  },
  {
   "cell_type": "code",
   "execution_count": null,
   "id": "c982dcb9",
   "metadata": {},
   "outputs": [],
   "source": [
    "trainer.fit(\n",
    "    model,\n",
    "    datamodule=datamodule,\n",
    "    ckpt_path=config[\"ckpt_path\"],\n",
    ")\n",
    "wandb_logger.experiment.config.update(config)\n",
    "wandb.finish()"
   ]
  },
  {
   "cell_type": "code",
   "execution_count": null,
   "id": "995b26dc",
   "metadata": {},
   "outputs": [],
   "source": []
  }
 ],
 "metadata": {
  "kernelspec": {
   "display_name": "ml_dev",
   "language": "python",
   "name": "python3"
  },
  "language_info": {
   "codemirror_mode": {
    "name": "ipython",
    "version": 3
   },
   "file_extension": ".py",
   "mimetype": "text/x-python",
   "name": "python",
   "nbconvert_exporter": "python",
   "pygments_lexer": "ipython3",
   "version": "3.11.13"
  }
 },
 "nbformat": 4,
 "nbformat_minor": 5
}
